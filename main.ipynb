{
 "cells": [
  {
   "cell_type": "code",
   "execution_count": 12,
   "metadata": {},
   "outputs": [
    {
     "name": "stdout",
     "output_type": "stream",
     "text": [
      "/Users/ayberkozkirli/Documents/GitHub/try/SD_meta_analysis/analysis/Ayberk\n",
      "Current Directory: /Users/ayberkozkirli/Documents/GitHub/try/SD_meta_analysis/data\n"
     ]
    },
    {
     "ename": "FileNotFoundError",
     "evalue": "[Errno 2] No such file or directory: '/Users/ayberkozkirli/Documents/GitHub/try/SD_meta_analysis/analysis/data/experiments'",
     "output_type": "error",
     "traceback": [
      "\u001b[0;31m---------------------------------------------------------------------------\u001b[0m",
      "\u001b[0;31mFileNotFoundError\u001b[0m                         Traceback (most recent call last)",
      "\u001b[1;32m/Users/ayberkozkirli/Documents/GitHub/try/SD_meta_analysis/analysis/Ayberk/main.ipynb Cell 3\u001b[0m line \u001b[0;36m1\n\u001b[0;32m----> <a href='vscode-notebook-cell:/Users/ayberkozkirli/Documents/GitHub/try/SD_meta_analysis/analysis/Ayberk/main.ipynb#W2sZmlsZQ%3D%3D?line=0'>1</a>\u001b[0m \u001b[39mimport\u001b[39;00m \u001b[39mprocess_combine_experiments\u001b[39;00m\n\u001b[1;32m      <a href='vscode-notebook-cell:/Users/ayberkozkirli/Documents/GitHub/try/SD_meta_analysis/analysis/Ayberk/main.ipynb#W2sZmlsZQ%3D%3D?line=1'>2</a>\u001b[0m process_combine_experiments\n",
      "File \u001b[0;32m~/Documents/GitHub/try/SD_meta_analysis/analysis/Ayberk/process_combine_experiments.py:37\u001b[0m\n\u001b[1;32m     35\u001b[0m \u001b[39m# Change directory to the 'experiments' folder inside the current directory.\u001b[39;00m\n\u001b[1;32m     36\u001b[0m experiments_dir \u001b[39m=\u001b[39m os\u001b[39m.\u001b[39mpath\u001b[39m.\u001b[39mjoin(current_dir, \u001b[39m'\u001b[39m\u001b[39mexperiments\u001b[39m\u001b[39m'\u001b[39m)\n\u001b[0;32m---> 37\u001b[0m os\u001b[39m.\u001b[39mchdir(experiments_dir)\n\u001b[1;32m     38\u001b[0m \u001b[39mprint\u001b[39m(\u001b[39m\"\u001b[39m\u001b[39mExperiments Directory:\u001b[39m\u001b[39m\"\u001b[39m, os\u001b[39m.\u001b[39mgetcwd())\n\u001b[1;32m     40\u001b[0m \u001b[39m# List all .mat files in the 'experiments' folder.\u001b[39;00m\n",
      "\u001b[0;31mFileNotFoundError\u001b[0m: [Errno 2] No such file or directory: '/Users/ayberkozkirli/Documents/GitHub/try/SD_meta_analysis/analysis/data/experiments'"
     ]
    }
   ],
   "source": [
    "import process_combine_experiments\n",
    "process_combine_experiments"
   ]
  },
  {
   "cell_type": "code",
   "execution_count": null,
   "metadata": {},
   "outputs": [],
   "source": []
  }
 ],
 "metadata": {
  "kernelspec": {
   "display_name": "base",
   "language": "python",
   "name": "python3"
  },
  "language_info": {
   "codemirror_mode": {
    "name": "ipython",
    "version": 3
   },
   "file_extension": ".py",
   "mimetype": "text/x-python",
   "name": "python",
   "nbconvert_exporter": "python",
   "pygments_lexer": "ipython3",
   "version": "3.11.5"
  }
 },
 "nbformat": 4,
 "nbformat_minor": 2
}
