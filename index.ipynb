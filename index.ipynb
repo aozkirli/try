import pandas as pd
from IPython.display import Markdown, display

df = pd.read_csv('tables/summary_studies.csv')
display(Markdown(df.to_markdown(index=False)))
